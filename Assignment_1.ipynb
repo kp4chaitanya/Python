{
 "cells": [
  {
   "cell_type": "raw",
   "metadata": {},
   "source": [
    "1. In the below elements which of them are values or an expression? eg:- values can be integer or string and expressions will be mathematical operators.\n",
    "* \n",
    "'hello'\n",
    "-87.8\n",
    "- \n",
    "/ \n",
    "+\t\n",
    "6 \n",
    "\n",
    "Answer: \n",
    "* is an Expression(operator)\n",
    "'hello' is a value(String)\n",
    "-87.8 is a value(float)\n",
    "- is an expression(operator)\n",
    "/ is an expression(operator)\n",
    "+ is an expression(operator)\n",
    "6 is a value(int)"
   ]
  },
  {
   "cell_type": "markdown",
   "metadata": {},
   "source": [
    "2. What is the difference between string and variable?\n",
    "\n",
    "Answer:\n",
    "Variable is used to store values and that value can be of any type like integer, float, character, string etc.\n",
    "String is a data type which can store series of characters inputed in '' or \"\""
   ]
  },
  {
   "cell_type": "markdown",
   "metadata": {},
   "source": [
    "3. Describe three different data types.\n",
    "\n",
    "Answer:\n",
    "int- used to store integer values eg: 5\n",
    "float- used to store decimal values eg: 5.6\n",
    "string- used to store series of characters inputed in \"\" or '' eg: \"Python\""
   ]
  },
  {
   "cell_type": "markdown",
   "metadata": {},
   "source": [
    "4. What is an expression made up of? What do all expressions do?\n",
    "\n",
    "Answer:\n",
    "Expression is made up of operators and operands\n",
    "Eg: a=(b+c)*d\n",
    "\n",
    "Expressions evaluate the operands using the arithmetic operators specified to calculate a resultant value"
   ]
  },
  {
   "cell_type": "markdown",
   "metadata": {},
   "source": [
    "5. This assignment statements, like spam = 10. What is the difference between an expression and a statement?\n",
    "\n",
    "Expressions evaluate the operands using the arithmetic operators specified to calculate a resultant value\n",
    "Statements perform an action eg: print, assign a value etc\n",
    "\n",
    "Both Expression and statement should follow programming language syntax, else will throw errors/exceptions"
   ]
  },
  {
   "cell_type": "markdown",
   "metadata": {},
   "source": [
    "6. After running the following code, what does the variable bacon contain?\n",
    "bacon = 22\n",
    "bacon + 1\n",
    "\n",
    "Answer:\n",
    "\n",
    "After execution of the above lines, the variable bacon will contain 22.\n",
    "the summation of 1 is not saved to the bacon variable. Hence the operation will not reflect in the bacon variable\n",
    "\n"
   ]
  },
  {
   "cell_type": "markdown",
   "metadata": {},
   "source": [
    "7. What should the values of the following two terms be?\n",
    "'spam' + 'spamspam'\n",
    "'spam' * 3\n",
    "\n",
    "Answer:\n",
    "'spam' + 'spamspam' and 'spam * 3' for both operations output will be 'spamspamspam'\n"
   ]
  },
  {
   "cell_type": "markdown",
   "metadata": {},
   "source": [
    "8. Why is eggs a valid variable name while 100 is invalid\n",
    "\n",
    "Answer:\n",
    "\n",
    "Variable name should be either alphabetic/alphanumeric and also accepts _ as a special character for naming. Also, there are some predefined variables in python which we cannot used for used defined variable names.\n",
    "\n",
    "Here eggs qualifies the above conditions while 100 is pure numeric hence it is invalid"
   ]
  },
  {
   "cell_type": "markdown",
   "metadata": {},
   "source": [
    "9. What three functions can be used to get the integer, floating-point number, or string version of a value?\n",
    "\n",
    "Answer:\n",
    " int() for integer\n",
    " float() for floating point number\n",
    " str() for string version of a number"
   ]
  },
  {
   "cell_type": "markdown",
   "metadata": {},
   "source": [
    "10. Why does this expression cause an error? How can you fix it?\n",
    "'I have eaten ' + 99 + ' burritos.'\n",
    "\n",
    "Answer:\n",
    "\n",
    "In the below expression except the value 99 which is integer,  all others are strings.\n",
    "Adding integer to string will give TypeError. \n",
    "\n",
    "To fix it, we need to convert the integer to string as below: \n",
    "'I have eaten ' + str(99) + ' burritos.'\n"
   ]
  }
 ],
 "metadata": {
  "kernelspec": {
   "display_name": "Python 3",
   "language": "python",
   "name": "python3"
  },
  "language_info": {
   "codemirror_mode": {
    "name": "ipython",
    "version": 3
   },
   "file_extension": ".py",
   "mimetype": "text/x-python",
   "name": "python",
   "nbconvert_exporter": "python",
   "pygments_lexer": "ipython3",
   "version": "3.8.3"
  }
 },
 "nbformat": 4,
 "nbformat_minor": 4
}
